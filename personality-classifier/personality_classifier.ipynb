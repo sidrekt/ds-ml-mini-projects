{
 "cells": [
  {
   "cell_type": "code",
   "execution_count": 61,
   "id": "22ec45b0-214c-4118-b46a-37a3c2004581",
   "metadata": {},
   "outputs": [
    {
     "name": "stdout",
     "output_type": "stream",
     "text": [
      "      Time_spent_Alone Stage_fear  Social_event_attendance  Going_outside  \\\n",
      "0                  4.0         No                      4.0            6.0   \n",
      "1                  9.0        Yes                      0.0            0.0   \n",
      "2                  9.0        Yes                      1.0            2.0   \n",
      "3                  0.0         No                      6.0            7.0   \n",
      "4                  3.0         No                      9.0            4.0   \n",
      "...                ...        ...                      ...            ...   \n",
      "2895               3.0         No                      7.0            6.0   \n",
      "2896               3.0         No                      8.0            3.0   \n",
      "2897               4.0        Yes                      1.0            1.0   \n",
      "2898              11.0        Yes                      1.0            NaN   \n",
      "2899               3.0         No                      6.0            6.0   \n",
      "\n",
      "     Drained_after_socializing  Friends_circle_size  Post_frequency  \\\n",
      "0                           No                 13.0             5.0   \n",
      "1                          Yes                  0.0             3.0   \n",
      "2                          Yes                  5.0             2.0   \n",
      "3                           No                 14.0             8.0   \n",
      "4                           No                  8.0             5.0   \n",
      "...                        ...                  ...             ...   \n",
      "2895                        No                  6.0             6.0   \n",
      "2896                        No                 14.0             9.0   \n",
      "2897                       Yes                  4.0             0.0   \n",
      "2898                       Yes                  2.0             0.0   \n",
      "2899                        No                  6.0             9.0   \n",
      "\n",
      "     Personality  \n",
      "0      Extrovert  \n",
      "1      Introvert  \n",
      "2      Introvert  \n",
      "3      Extrovert  \n",
      "4      Extrovert  \n",
      "...          ...  \n",
      "2895   Extrovert  \n",
      "2896   Extrovert  \n",
      "2897   Introvert  \n",
      "2898   Introvert  \n",
      "2899   Extrovert  \n",
      "\n",
      "[2900 rows x 8 columns]\n"
     ]
    }
   ],
   "source": [
    "import pandas as pd\n",
    "import numpy as np \n",
    "\n",
    "import os\n",
    "\n",
    "os.getcwd()\n",
    "\n",
    "data = pd.read_csv(\"/Users/siddharthrekhade/Downloads/personality_dataset.csv\")\n",
    "\n",
    "print(data)"
   ]
  },
  {
   "cell_type": "code",
   "execution_count": 62,
   "id": "58bfb6be-8d97-4f39-96f5-36f6b3f52659",
   "metadata": {},
   "outputs": [],
   "source": [
    "data = data.dropna()"
   ]
  },
  {
   "cell_type": "code",
   "execution_count": 63,
   "id": "11e035f3-0972-4f19-88cf-4bdee99005d1",
   "metadata": {},
   "outputs": [],
   "source": [
    "data[\"Stage_fear_label\"] = data[\"Stage_fear\"].map({\"No\": 0, \"Yes\" : 1})\n",
    "data[\"Drained_after_socializing_label\"] = data[\"Drained_after_socializing\"].map({\"No\": 0, \"Yes\" : 1})"
   ]
  },
  {
   "cell_type": "code",
   "execution_count": 64,
   "id": "bf5981c8-1c62-420c-a7f9-30cef518bff8",
   "metadata": {},
   "outputs": [
    {
     "name": "stdout",
     "output_type": "stream",
     "text": [
      "0    1\n",
      "1    0\n",
      "2    0\n",
      "3    1\n",
      "4    1\n",
      "Name: Personality_Label, dtype: int64\n"
     ]
    }
   ],
   "source": [
    "data[\"Personality_Label\"] = data[\"Personality\"].map({\"Extrovert\" : 1, \"Introvert\" : 0})\n",
    "\n",
    "print(data[\"Personality_Label\"].head())"
   ]
  },
  {
   "cell_type": "code",
   "execution_count": 65,
   "id": "655c1fca-d1a5-4f43-b810-235ca4473dd5",
   "metadata": {},
   "outputs": [],
   "source": [
    "from sklearn.ensemble import GradientBoostingClassifier\n",
    "from sklearn.model_selection import train_test_split\n",
    "\n",
    "X = data.iloc[:, [0, 2, 3, 5, 6, 8, 9]]\n",
    "y = data[\"Personality_Label\"]\n",
    "\n",
    "X_train, X_test, y_train, y_test = train_test_split(X, y, test_size = 0.2, random_state = 23)\n",
    "\n",
    "model = GradientBoostingClassifier()\n",
    "\n",
    "model.fit(X_train, y_train)\n",
    "\n",
    "preds = model.predict(X_test)"
   ]
  },
  {
   "cell_type": "code",
   "execution_count": 75,
   "id": "75b79a25-8437-4240-af73-7371ea01334b",
   "metadata": {},
   "outputs": [
    {
     "name": "stdout",
     "output_type": "stream",
     "text": [
      "              precision    recall  f1-score   support\n",
      "\n",
      "           0       0.91      0.95      0.93       232\n",
      "           1       0.96      0.91      0.93       264\n",
      "\n",
      "    accuracy                           0.93       496\n",
      "   macro avg       0.93      0.93      0.93       496\n",
      "weighted avg       0.93      0.93      0.93       496\n",
      "\n"
     ]
    }
   ],
   "source": [
    "from sklearn.metrics import accuracy_score, confusion_matrix, classification_report\n",
    "\n",
    "report = classification_report(y_test, preds)\n",
    "\n",
    "print(report)"
   ]
  }
 ],
 "metadata": {
  "kernelspec": {
   "display_name": "Python 3 (ipykernel)",
   "language": "python",
   "name": "python3"
  },
  "language_info": {
   "codemirror_mode": {
    "name": "ipython",
    "version": 3
   },
   "file_extension": ".py",
   "mimetype": "text/x-python",
   "name": "python",
   "nbconvert_exporter": "python",
   "pygments_lexer": "ipython3",
   "version": "3.9.6"
  }
 },
 "nbformat": 4,
 "nbformat_minor": 5
}
