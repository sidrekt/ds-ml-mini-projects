{
 "cells": [
  {
   "cell_type": "code",
   "execution_count": 4,
   "id": "ae4f29c4-49cc-4006-bc1f-41d4fc3a48cd",
   "metadata": {},
   "outputs": [
    {
     "data": {
      "text/html": [
       "<div>\n",
       "<style scoped>\n",
       "    .dataframe tbody tr th:only-of-type {\n",
       "        vertical-align: middle;\n",
       "    }\n",
       "\n",
       "    .dataframe tbody tr th {\n",
       "        vertical-align: top;\n",
       "    }\n",
       "\n",
       "    .dataframe thead th {\n",
       "        text-align: right;\n",
       "    }\n",
       "</style>\n",
       "<table border=\"1\" class=\"dataframe\">\n",
       "  <thead>\n",
       "    <tr style=\"text-align: right;\">\n",
       "      <th></th>\n",
       "      <th>text</th>\n",
       "      <th>label</th>\n",
       "      <th>n_label</th>\n",
       "    </tr>\n",
       "  </thead>\n",
       "  <tbody>\n",
       "    <tr>\n",
       "      <th>1773</th>\n",
       "      <td>Slippery Floor! Authorized Personnel Only</td>\n",
       "      <td>warning</td>\n",
       "      <td>3</td>\n",
       "    </tr>\n",
       "    <tr>\n",
       "      <th>89</th>\n",
       "      <td>Mega Deal - 21% OFF!</td>\n",
       "      <td>advertisement</td>\n",
       "      <td>0</td>\n",
       "    </tr>\n",
       "    <tr>\n",
       "      <th>1202</th>\n",
       "      <td>Bakery - Open 24x7</td>\n",
       "      <td>store sign</td>\n",
       "      <td>2</td>\n",
       "    </tr>\n",
       "    <tr>\n",
       "      <th>1772</th>\n",
       "      <td>Keep Out! Be Careful</td>\n",
       "      <td>warning</td>\n",
       "      <td>3</td>\n",
       "    </tr>\n",
       "    <tr>\n",
       "      <th>1827</th>\n",
       "      <td>Keep Out! Proceed With Caution</td>\n",
       "      <td>warning</td>\n",
       "      <td>3</td>\n",
       "    </tr>\n",
       "    <tr>\n",
       "      <th>897</th>\n",
       "      <td>No Parking</td>\n",
       "      <td>road sign</td>\n",
       "      <td>1</td>\n",
       "    </tr>\n",
       "    <tr>\n",
       "      <th>1936</th>\n",
       "      <td>Keep Out! Proceed With Caution</td>\n",
       "      <td>warning</td>\n",
       "      <td>3</td>\n",
       "    </tr>\n",
       "    <tr>\n",
       "      <th>2275</th>\n",
       "      <td>Welcome to Parking Area</td>\n",
       "      <td>informational</td>\n",
       "      <td>4</td>\n",
       "    </tr>\n",
       "    <tr>\n",
       "      <th>1222</th>\n",
       "      <td>Electronics - Open 9-5</td>\n",
       "      <td>store sign</td>\n",
       "      <td>2</td>\n",
       "    </tr>\n",
       "    <tr>\n",
       "      <th>47</th>\n",
       "      <td>Mega Deal - 76% OFF!</td>\n",
       "      <td>advertisement</td>\n",
       "      <td>0</td>\n",
       "    </tr>\n",
       "  </tbody>\n",
       "</table>\n",
       "</div>"
      ],
      "text/plain": [
       "                                           text          label  n_label\n",
       "1773  Slippery Floor! Authorized Personnel Only        warning        3\n",
       "89                         Mega Deal - 21% OFF!  advertisement        0\n",
       "1202                         Bakery - Open 24x7     store sign        2\n",
       "1772                       Keep Out! Be Careful        warning        3\n",
       "1827             Keep Out! Proceed With Caution        warning        3\n",
       "897                                  No Parking      road sign        1\n",
       "1936             Keep Out! Proceed With Caution        warning        3\n",
       "2275                    Welcome to Parking Area  informational        4\n",
       "1222                     Electronics - Open 9-5     store sign        2\n",
       "47                         Mega Deal - 76% OFF!  advertisement        0"
      ]
     },
     "execution_count": 4,
     "metadata": {},
     "output_type": "execute_result"
    }
   ],
   "source": [
    "import pandas as pd\n",
    "import os\n",
    "\n",
    "os.getcwd()\n",
    "\n",
    "data = pd.read_csv(\"/Users/siddharthrekhade/Downloads/signboard_text_dataset.csv\")\n",
    "\n",
    "data[\"n_label\"] = data[\"label\"].map({\"advertisement\" : 0, \"road sign\" : 1, \"store sign\" : 2, \"warning\" : 3, \"informational\" : 4})\n",
    "\n",
    "data.sample(n = 10)"
   ]
  },
  {
   "cell_type": "code",
   "execution_count": 10,
   "id": "910835ad-38b5-428d-a89f-35e0631f8f46",
   "metadata": {},
   "outputs": [],
   "source": [
    "from transformers import DistilBertTokenizer\n",
    "\n",
    "texts = data[\"text\"].tolist()\n",
    "labels = data[\"n_label\"]\n",
    "\n",
    "tokenizer = DistilBertTokenizer.from_pretrained(\"distilbert-base-uncased\")\n",
    "inputs = tokenizer(texts, padding=True, truncation=True, return_tensors=\"pt\")"
   ]
  },
  {
   "cell_type": "code",
   "execution_count": 7,
   "id": "51333910-ba6d-442a-a354-b502b6fbb0aa",
   "metadata": {},
   "outputs": [
    {
     "data": {
      "application/vnd.jupyter.widget-view+json": {
       "model_id": "ab73bcf9cc8549dc99b6d00dcee95e1e",
       "version_major": 2,
       "version_minor": 0
      },
      "text/plain": [
       "model.safetensors:   0%|          | 0.00/268M [00:00<?, ?B/s]"
      ]
     },
     "metadata": {},
     "output_type": "display_data"
    }
   ],
   "source": [
    "from transformers import DistilBertModel\n",
    "import torch\n",
    "\n",
    "model = DistilBertModel.from_pretrained(\"distilbert-base-uncased\")\n",
    "\n",
    "with torch.no_grad():\n",
    "    embeddings = model(**inputs).last_hidden_state[:, 0, :]"
   ]
  },
  {
   "cell_type": "code",
   "execution_count": 12,
   "id": "c7dcad7c-8c0e-4e90-b0d6-446813c41c3d",
   "metadata": {},
   "outputs": [],
   "source": [
    "import torch.nn as nn\n",
    "\n",
    "class Classifier(nn.Module):\n",
    "    def __init__(self, hidden_dim=768, num_classes=5):\n",
    "        super().__init__()\n",
    "        self.classifier = nn.Sequential(\n",
    "            nn.Linear(hidden_dim, 256),\n",
    "            nn.ReLU(),\n",
    "            nn.Linear(256, num_classes)\n",
    "        )\n",
    "\n",
    "    def forward(self, x):\n",
    "        return self.classifier(x)\n",
    "\n",
    "model = Classifier()"
   ]
  },
  {
   "cell_type": "code",
   "execution_count": 15,
   "id": "20637e9c-c48f-4f3f-87c4-b83f270cbeee",
   "metadata": {},
   "outputs": [
    {
     "name": "stdout",
     "output_type": "stream",
     "text": [
      "Epoch 1/8 - Loss: 0.0005 - Accuracy: 1.0000\n",
      "Epoch 2/8 - Loss: 0.0001 - Accuracy: 1.0000\n",
      "Epoch 3/8 - Loss: 0.0001 - Accuracy: 1.0000\n",
      "Epoch 4/8 - Loss: 0.0000 - Accuracy: 1.0000\n",
      "Epoch 5/8 - Loss: 0.0000 - Accuracy: 1.0000\n",
      "Epoch 6/8 - Loss: 0.0000 - Accuracy: 1.0000\n",
      "Epoch 7/8 - Loss: 0.0000 - Accuracy: 1.0000\n",
      "Epoch 8/8 - Loss: 0.0000 - Accuracy: 1.0000\n"
     ]
    }
   ],
   "source": [
    "import torch\n",
    "from torch.utils.data import DataLoader, TensorDataset\n",
    "from sklearn.metrics import accuracy_score\n",
    "\n",
    "X = embeddings\n",
    "y = torch.tensor(labels)\n",
    "\n",
    "dataset = TensorDataset(X, y)\n",
    "loader = DataLoader(dataset, batch_size=16, shuffle=True)\n",
    "\n",
    "criterion = nn.CrossEntropyLoss()\n",
    "optimizer = torch.optim.Adam(model.parameters(), lr=1e-4)\n",
    "\n",
    "epochs = 8\n",
    "\n",
    "for epoch in range(epochs):\n",
    "    model.train()\n",
    "    total_loss = 0\n",
    "    all_preds = []\n",
    "    all_labels = []\n",
    "\n",
    "    for xb, yb in loader:  # loader = your dataloader\n",
    "        optimizer.zero_grad()\n",
    "        preds = model(xb)\n",
    "        loss = criterion(preds, yb)\n",
    "        loss.backward()\n",
    "        optimizer.step()\n",
    "\n",
    "        total_loss += loss.item()\n",
    "        all_preds.extend(preds.argmax(dim=1).tolist())\n",
    "        all_labels.extend(yb.tolist())\n",
    "\n",
    "    avg_loss = total_loss / len(loader)\n",
    "    acc = accuracy_score(all_labels, all_preds)\n",
    "\n",
    "    print(f\"Epoch {epoch+1}/{epochs} - Loss: {avg_loss:.4f} - Accuracy: {acc:.4f}\")"
   ]
  }
 ],
 "metadata": {
  "kernelspec": {
   "display_name": "Python 3 (ipykernel)",
   "language": "python",
   "name": "python3"
  },
  "language_info": {
   "codemirror_mode": {
    "name": "ipython",
    "version": 3
   },
   "file_extension": ".py",
   "mimetype": "text/x-python",
   "name": "python",
   "nbconvert_exporter": "python",
   "pygments_lexer": "ipython3",
   "version": "3.9.6"
  }
 },
 "nbformat": 4,
 "nbformat_minor": 5
}
