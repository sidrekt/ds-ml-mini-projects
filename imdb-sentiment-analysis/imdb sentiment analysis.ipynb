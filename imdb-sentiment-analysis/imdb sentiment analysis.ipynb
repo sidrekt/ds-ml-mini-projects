{
 "cells": [
  {
   "cell_type": "code",
   "execution_count": 1,
   "id": "a6d77b7c-56c1-43f2-8a0c-243b3a5929c3",
   "metadata": {},
   "outputs": [
    {
     "name": "stdout",
     "output_type": "stream",
     "text": [
      "                                                  review sentiment\n",
      "49995  I thought this movie did a down right good job...  positive\n",
      "49996  Bad plot, bad dialogue, bad acting, idiotic di...  negative\n",
      "49997  I am a Catholic taught in parochial elementary...  negative\n",
      "49998  I'm going to have to disagree with the previou...  negative\n",
      "49999  No one expects the Star Trek movies to be high...  negative\n"
     ]
    }
   ],
   "source": [
    "import numpy as np\n",
    "import pandas as pd\n",
    "import os\n",
    "\n",
    "os.getcwd()\n",
    "\n",
    "data = pd.read_csv(\"/Users/siddharthrekhade/Downloads/IMDB Dataset.csv\")\n",
    "\n",
    "print(data.tail())"
   ]
  },
  {
   "cell_type": "code",
   "execution_count": 2,
   "id": "dc458823-14e7-40b1-847e-4d93a615b2b6",
   "metadata": {},
   "outputs": [],
   "source": [
    "X = data['review']\n",
    "Y = data['sentiment']\n",
    "\n",
    "from sklearn.model_selection import train_test_split\n",
    "\n",
    "x_train, x_test, y_train, y_test = train_test_split(X, Y, test_size = 0.2, random_state = 21)"
   ]
  },
  {
   "cell_type": "code",
   "execution_count": 3,
   "id": "45aee2e7-eb9a-4ab8-98cd-1ace80e84d15",
   "metadata": {},
   "outputs": [],
   "source": [
    "from sklearn.feature_extraction.text import TfidfVectorizer\n",
    "from sklearn.ensemble import RandomForestClassifier\n",
    "from sklearn.pipeline import Pipeline\n",
    "\n",
    "vectorizer = TfidfVectorizer()\n",
    "classifier = RandomForestClassifier()\n",
    "\n",
    "model = Pipeline(\n",
    "    steps = [\n",
    "        ('vectorizer', vectorizer),\n",
    "        ('classifier', classifier)\n",
    "    ]\n",
    ")\n",
    "\n",
    "model.fit(x_train, y_train)\n",
    "predictions = model.predict(x_test)"
   ]
  },
  {
   "cell_type": "code",
   "execution_count": 4,
   "id": "a48b69f6-c291-411a-97fb-e8d64d2ca7b3",
   "metadata": {},
   "outputs": [
    {
     "name": "stdout",
     "output_type": "stream",
     "text": [
      "Accuracy Score : 0.8445 \n",
      "Confusion Matrix : \n",
      "[[4235  751]\n",
      " [ 804 4210]]\n"
     ]
    }
   ],
   "source": [
    "from sklearn.metrics import accuracy_score, confusion_matrix\n",
    "\n",
    "acc_score, conf_matrix = accuracy_score(y_test, predictions), confusion_matrix(y_test, predictions)\n",
    "\n",
    "print(f'Accuracy Score : {acc_score} \\nConfusion Matrix : \\n{conf_matrix}')"
   ]
  },
  {
   "cell_type": "code",
   "execution_count": null,
   "id": "08a01e76-c6f7-4b01-8ac0-94f8443b42a3",
   "metadata": {},
   "outputs": [],
   "source": [
    "print()\n",
    "print(model.predict(input))"
   ]
  }
 ],
 "metadata": {
  "kernelspec": {
   "display_name": "Python 3 (ipykernel)",
   "language": "python",
   "name": "python3"
  },
  "language_info": {
   "codemirror_mode": {
    "name": "ipython",
    "version": 3
   },
   "file_extension": ".py",
   "mimetype": "text/x-python",
   "name": "python",
   "nbconvert_exporter": "python",
   "pygments_lexer": "ipython3",
   "version": "3.9.6"
  }
 },
 "nbformat": 4,
 "nbformat_minor": 5
}
