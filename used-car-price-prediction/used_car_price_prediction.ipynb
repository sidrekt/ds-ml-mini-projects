{
 "cells": [
  {
   "cell_type": "code",
   "execution_count": 129,
   "id": "58b280f5-7ef0-4d48-8267-37491c664a2a",
   "metadata": {},
   "outputs": [
    {
     "name": "stdout",
     "output_type": "stream",
     "text": [
      "   make_year  mileage_kmpl  engine_cc fuel_type  owner_count  price_usd  \\\n",
      "0       2001          8.17       4000    Petrol            4    8587.64   \n",
      "1       2014         17.59       1500    Petrol            4    5943.50   \n",
      "2       2023         18.09       2500    Diesel            5    9273.58   \n",
      "3       2009         11.28        800    Petrol            1    6836.24   \n",
      "4       2005         12.23       1000    Petrol            2    4625.79   \n",
      "\n",
      "       brand transmission  color service_history  accidents_reported  \\\n",
      "0  Chevrolet       Manual  White             NaN                   0   \n",
      "1      Honda       Manual  Black             NaN                   0   \n",
      "2        BMW    Automatic  Black            Full                   1   \n",
      "3    Hyundai       Manual   Blue            Full                   0   \n",
      "4     Nissan    Automatic    Red            Full                   0   \n",
      "\n",
      "  insurance_valid  \n",
      "0              No  \n",
      "1             Yes  \n",
      "2             Yes  \n",
      "3             Yes  \n",
      "4             Yes  \n"
     ]
    }
   ],
   "source": [
    "import numpy as np\n",
    "import pandas as pd\n",
    "import os\n",
    "\n",
    "os.getcwd()\n",
    "\n",
    "data = pd.read_csv(\"/Users/siddharthrekhade/Downloads/used_car_price_dataset_extended.csv\")\n",
    "\n",
    "print(data.head())"
   ]
  },
  {
   "cell_type": "code",
   "execution_count": 93,
   "id": "4526442e-b748-4525-a377-f76e44544cf5",
   "metadata": {},
   "outputs": [
    {
     "name": "stdout",
     "output_type": "stream",
     "text": [
      "0       24\n",
      "1       11\n",
      "2        2\n",
      "3       16\n",
      "4       20\n",
      "        ..\n",
      "9995    29\n",
      "9996    28\n",
      "9997    23\n",
      "9998    20\n",
      "9999    18\n",
      "Name: car_age, Length: 10000, dtype: int64\n"
     ]
    }
   ],
   "source": [
    "data['car_age'] = 2025 - data['make_year']\n",
    "print(data['car_age'])"
   ]
  },
  {
   "cell_type": "code",
   "execution_count": 94,
   "id": "2e4b682f-3337-484a-b2cc-b2b448176bb9",
   "metadata": {},
   "outputs": [
    {
     "name": "stdout",
     "output_type": "stream",
     "text": [
      "[['make_year', array([2001, 2014, 2023, 2009, 2005, 2002, 2015, 2020, 2013, 2017, 2018,\n",
      "       1998, 1997, 2016, 1996, 2006, 2000, 2022, 1995, 2019, 2011, 2021,\n",
      "       2004, 2010, 1999, 2003, 2012, 2008, 2007])], ['mileage_kmpl', array([ 8.17, 17.59, 18.09, ...,  9.77,  8.27,  6.51])], ['engine_cc', array([4000, 1500, 2500,  800, 1000, 2000, 5000, 1800, 3000, 1200])], ['fuel_type', array(['Petrol', 'Diesel', 'Electric'], dtype=object)], ['owner_count', array([4, 5, 1, 2, 3])], ['price_usd', array([ 8587.64,  5943.5 ,  9273.58, ...,  4557.1 ,  7413.59, 11634.09])], ['brand', array(['Chevrolet', 'Honda', 'BMW', 'Hyundai', 'Nissan', 'Tesla',\n",
      "       'Toyota', 'Kia', 'Volkswagen', 'Ford'], dtype=object)], ['transmission', array(['Manual', 'Automatic'], dtype=object)], ['color', array(['White', 'Black', 'Blue', 'Red', 'Gray', 'Silver'], dtype=object)], ['service_history', array([nan, 'Full', 'Partial'], dtype=object)], ['accidents_reported', array([0, 1, 2, 3, 4, 5])], ['insurance_valid', array(['No', 'Yes'], dtype=object)], ['car_age', array([24, 11,  2, 16, 20, 23, 10,  5, 12,  8,  7, 27, 28,  9, 29, 19, 25,\n",
      "        3, 30,  6, 14,  4, 21, 15, 26, 22, 13, 17, 18])]]\n"
     ]
    }
   ],
   "source": [
    "colunique = [[col, data[col].unique()] for col in data.columns]\n",
    "print(colunique)"
   ]
  },
  {
   "cell_type": "code",
   "execution_count": 97,
   "id": "e3027442-23c8-4139-8d5e-f2b007f5d7b9",
   "metadata": {},
   "outputs": [
    {
     "name": "stdout",
     "output_type": "stream",
     "text": [
      "0       24\n",
      "1       11\n",
      "2        2\n",
      "3       16\n",
      "4       20\n",
      "        ..\n",
      "9995    29\n",
      "9996    28\n",
      "9997    23\n",
      "9998    20\n",
      "9999    18\n",
      "Name: car_age, Length: 10000, dtype: int64\n"
     ]
    }
   ],
   "source": [
    "data['service_history'] = data['service_history'].fillna('None')\n",
    "# data = data.drop(['make_year', 'color'], axis = 1)\n",
    "\n",
    "print(data['car_age'])"
   ]
  },
  {
   "cell_type": "code",
   "execution_count": 115,
   "id": "9d7bfb43-6ee3-43d4-a4b4-080c601ea32f",
   "metadata": {},
   "outputs": [
    {
     "name": "stdout",
     "output_type": "stream",
     "text": [
      "      mileage_kmpl  engine_cc fuel_type  owner_count      brand transmission  \\\n",
      "0             8.17       4000    Petrol            4  Chevrolet       Manual   \n",
      "1            17.59       1500    Petrol            4      Honda       Manual   \n",
      "2            18.09       2500    Diesel            5        BMW    Automatic   \n",
      "3            11.28        800    Petrol            1    Hyundai       Manual   \n",
      "4            12.23       1000    Petrol            2     Nissan    Automatic   \n",
      "...            ...        ...       ...          ...        ...          ...   \n",
      "9995         15.25       1500    Petrol            2    Hyundai       Manual   \n",
      "9996         14.45       5000    Diesel            1      Honda       Manual   \n",
      "9997         19.41       1000    Diesel            4        Kia       Manual   \n",
      "9998         12.95       4000    Petrol            5        BMW    Automatic   \n",
      "9999         18.81       5000    Petrol            1        BMW    Automatic   \n",
      "\n",
      "     service_history  accidents_reported insurance_valid  car_age  \n",
      "0               None                   0              No       24  \n",
      "1               None                   0             Yes       11  \n",
      "2               Full                   1             Yes        2  \n",
      "3               Full                   0             Yes       16  \n",
      "4               Full                   0             Yes       20  \n",
      "...              ...                 ...             ...      ...  \n",
      "9995            None                   0             Yes       29  \n",
      "9996            Full                   0             Yes       28  \n",
      "9997            Full                   0             Yes       23  \n",
      "9998            Full                   0             Yes       20  \n",
      "9999            Full                   0             Yes       18  \n",
      "\n",
      "[10000 rows x 10 columns]\n",
      "0        8587.64\n",
      "1        5943.50\n",
      "2        9273.58\n",
      "3        6836.24\n",
      "4        4625.79\n",
      "          ...   \n",
      "9995     5498.71\n",
      "9996     9588.31\n",
      "9997     4557.10\n",
      "9998     7413.59\n",
      "9999    11634.09\n",
      "Name: price_usd, Length: 10000, dtype: float64\n"
     ]
    }
   ],
   "source": [
    "X = data.iloc[:, [x for x in range(0,11) if x != 4]]\n",
    "Y = data.iloc[:, 4]\n",
    "\n",
    "print(X)\n",
    "print(Y)"
   ]
  },
  {
   "cell_type": "code",
   "execution_count": 119,
   "id": "214ff85e-0d8d-43bc-a1dd-8252d738ccdf",
   "metadata": {},
   "outputs": [],
   "source": [
    "from sklearn.model_selection import train_test_split\n",
    "from sklearn.ensemble import RandomForestRegressor\n",
    "from sklearn.pipeline import Pipeline\n",
    "from sklearn.preprocessing import OneHotEncoder, StandardScaler\n",
    "from sklearn.compose import ColumnTransformer\n",
    "\n",
    "x_train, x_test, y_train, y_test = train_test_split(X, Y, test_size = 0.2, random_state = 20)\n",
    "\n",
    "regressor, cat_encoder, num_encoder = RandomForestRegressor(), OneHotEncoder(drop = 'first', handle_unknown = 'ignore'), StandardScaler()\n",
    "\n",
    "categorical_columns = ['fuel_type', 'brand', 'transmission', 'service_history', 'insurance_valid']\n",
    "numerical_columns = ['mileage_kmpl', 'engine_cc', 'owner_count', 'accidents_reported', 'car_age']\n",
    "\n",
    "\n",
    "preprocessor = ColumnTransformer(\n",
    "    transformers = [('cat_encoder', cat_encoder, categorical_columns),\n",
    "                   ('num_encoder', num_encoder, numerical_columns)],\n",
    "    remainder = 'passthrough'\n",
    ")\n",
    "\n",
    "model = Pipeline(\n",
    "    steps = [('preprocessor', preprocessor),\n",
    "            ('regressor', regressor)]\n",
    ")\n",
    "\n",
    "# model = RandomForestRegressor()\n",
    "\n",
    "model.fit(x_train, y_train)\n",
    "\n",
    "predictions = model.predict(x_test)"
   ]
  },
  {
   "cell_type": "code",
   "execution_count": 122,
   "id": "7fe41e77-ca78-4a52-afe2-722ae4f28c34",
   "metadata": {},
   "outputs": [
    {
     "name": "stdout",
     "output_type": "stream",
     "text": [
      "857.9272082 0.8522056923971615\n"
     ]
    }
   ],
   "source": [
    "from sklearn.metrics import mean_absolute_error, r2_score\n",
    "\n",
    "mae = mean_absolute_error(y_test, predictions)\n",
    "r2 = r2_score(y_test, predictions)\n",
    "\n",
    "print(mae, r2)"
   ]
  },
  {
   "cell_type": "code",
   "execution_count": 125,
   "id": "f8cd1660-1c52-4060-91fe-ab4dab359944",
   "metadata": {},
   "outputs": [
    {
     "name": "stderr",
     "output_type": "stream",
     "text": [
      "/Users/siddharthrekhade/Library/Python/3.9/lib/python/site-packages/sklearn/utils/extmath.py:203: RuntimeWarning: divide by zero encountered in matmul\n",
      "  ret = a @ b\n",
      "/Users/siddharthrekhade/Library/Python/3.9/lib/python/site-packages/sklearn/utils/extmath.py:203: RuntimeWarning: overflow encountered in matmul\n",
      "  ret = a @ b\n",
      "/Users/siddharthrekhade/Library/Python/3.9/lib/python/site-packages/sklearn/utils/extmath.py:203: RuntimeWarning: invalid value encountered in matmul\n",
      "  ret = a @ b\n"
     ]
    },
    {
     "name": "stdout",
     "output_type": "stream",
     "text": [
      "784.9667386405754 0.8755774117924413\n"
     ]
    },
    {
     "name": "stderr",
     "output_type": "stream",
     "text": [
      "/Users/siddharthrekhade/Library/Python/3.9/lib/python/site-packages/sklearn/utils/extmath.py:203: RuntimeWarning: divide by zero encountered in matmul\n",
      "  ret = a @ b\n",
      "/Users/siddharthrekhade/Library/Python/3.9/lib/python/site-packages/sklearn/utils/extmath.py:203: RuntimeWarning: overflow encountered in matmul\n",
      "  ret = a @ b\n",
      "/Users/siddharthrekhade/Library/Python/3.9/lib/python/site-packages/sklearn/utils/extmath.py:203: RuntimeWarning: invalid value encountered in matmul\n",
      "  ret = a @ b\n"
     ]
    }
   ],
   "source": [
    "from sklearn.neural_network import MLPRegressor\n",
    "# from sklearn.preprocessing import StandardScaler\n",
    "\n",
    "regressor2 = MLPRegressor(\n",
    "    hidden_layer_sizes=(32, 16),\n",
    "    max_iter=1000,\n",
    "    learning_rate_init=0.001,\n",
    "    alpha=0.01,  # L2 regularization\n",
    "    random_state=42\n",
    ")\n",
    "\n",
    "numeric_columns = ['']\n",
    "\n",
    "model2 = Pipeline(\n",
    "    steps = [('preprocessor', preprocessor),\n",
    "            ('regressor', regressor2)]\n",
    ")\n",
    "\n",
    "model2.fit(x_train, y_train)\n",
    "\n",
    "predictions2 = model2.predict(x_test)\n",
    "\n",
    "mae_2, r2_2 = mean_absolute_error(y_test, predictions2), r2_score(y_test, predictions2)\n",
    "\n",
    "print(mae_2, r2_2)"
   ]
  },
  {
   "cell_type": "code",
   "execution_count": 154,
   "id": "b8f42bed-83f3-46d7-87f1-ce09ee1ae301",
   "metadata": {},
   "outputs": [
    {
     "data": {
      "text/plain": [
       "<function matplotlib.pyplot.show(close=None, block=None)>"
      ]
     },
     "execution_count": 154,
     "metadata": {},
     "output_type": "execute_result"
    },
    {
     "data": {
      "image/png": "[encoded data removed]",
      "text/plain": [
       "<Figure size 1000x600 with 1 Axes>"
      ]
     },
     "metadata": {},
     "output_type": "display_data"
    }
   ],
   "source": [
    "import matplotlib.pyplot as plt\n",
    "import seaborn as sns\n",
    "\n",
    "# plt.hist(Y, bins=50)\n",
    "# plt.title(\"Target distribution\")\n",
    "# plt.show()\n",
    "\n",
    "correlations = data.corr(numeric_only = True)\n",
    "\n",
    "plt.figure(figsize = (10,6))\n",
    "sns.barplot(x = correlations['price_usd'].drop('price_usd'), y = correlations.index.drop('price_usd'))\n",
    "plt.show"
   ]
  },
  {
   "cell_type": "code",
   "execution_count": null,
   "id": "14e7239c-2d60-408e-a4be-85e6257f8a22",
   "metadata": {},
   "outputs": [],
   "source": []
  }
 ],
 "metadata": {
  "kernelspec": {
   "display_name": "Python 3 (ipykernel)",
   "language": "python",
   "name": "python3"
  },
  "language_info": {
   "codemirror_mode": {
    "name": "ipython",
    "version": 3
   },
   "file_extension": ".py",
   "mimetype": "text/x-python",
   "name": "python",
   "nbconvert_exporter": "python",
   "pygments_lexer": "ipython3",
   "version": "3.9.6"
  }
 },
 "nbformat": 4,
 "nbformat_minor": 5
}
